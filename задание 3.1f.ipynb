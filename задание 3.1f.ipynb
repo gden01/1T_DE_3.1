{
 "cells": [
  {
   "cell_type": "code",
   "execution_count": 1,
   "id": "ce14f456",
   "metadata": {},
   "outputs": [],
   "source": [
    "#Написать программу, которая запрашивает у пользователя строку и выводит на экран все ее подстроки длиной не менее трех символов."
   ]
  },
  {
   "cell_type": "code",
   "execution_count": 8,
   "id": "09c23ab4",
   "metadata": {},
   "outputs": [],
   "source": [
    "def generate_substrings(input_string):\n",
    "    substrings = []\n",
    "    length = len(input_string)\n",
    "    \n",
    "    for start in range(length):\n",
    "        for end in range(start + 3, length + 1):\n",
    "            substring = input_string[start:end]\n",
    "            substrings.append(substring)\n",
    "    \n",
    "    return substrings"
   ]
  },
  {
   "cell_type": "code",
   "execution_count": 13,
   "id": "77f93d15",
   "metadata": {},
   "outputs": [
    {
     "name": "stdout",
     "output_type": "stream",
     "text": [
      "Введите строку: фывдфылвофдылов\n"
     ]
    }
   ],
   "source": [
    "# Запрашиваем у пользователя ввод строки\n",
    "user_input = input(\"Введите строку: \")"
   ]
  },
  {
   "cell_type": "code",
   "execution_count": 14,
   "id": "66853a59",
   "metadata": {},
   "outputs": [
    {
     "name": "stdout",
     "output_type": "stream",
     "text": [
      "фыв\n",
      "фывд\n",
      "фывдф\n",
      "фывдфы\n",
      "фывдфыл\n",
      "фывдфылв\n",
      "фывдфылво\n",
      "фывдфылвоф\n",
      "фывдфылвофд\n",
      "фывдфылвофды\n",
      "фывдфылвофдыл\n",
      "фывдфылвофдыло\n",
      "фывдфылвофдылов\n",
      "ывд\n",
      "ывдф\n",
      "ывдфы\n",
      "ывдфыл\n",
      "ывдфылв\n",
      "ывдфылво\n",
      "ывдфылвоф\n",
      "ывдфылвофд\n",
      "ывдфылвофды\n",
      "ывдфылвофдыл\n",
      "ывдфылвофдыло\n",
      "ывдфылвофдылов\n",
      "вдф\n",
      "вдфы\n",
      "вдфыл\n",
      "вдфылв\n",
      "вдфылво\n",
      "вдфылвоф\n",
      "вдфылвофд\n",
      "вдфылвофды\n",
      "вдфылвофдыл\n",
      "вдфылвофдыло\n",
      "вдфылвофдылов\n",
      "дфы\n",
      "дфыл\n",
      "дфылв\n",
      "дфылво\n",
      "дфылвоф\n",
      "дфылвофд\n",
      "дфылвофды\n",
      "дфылвофдыл\n",
      "дфылвофдыло\n",
      "дфылвофдылов\n",
      "фыл\n",
      "фылв\n",
      "фылво\n",
      "фылвоф\n",
      "фылвофд\n",
      "фылвофды\n",
      "фылвофдыл\n",
      "фылвофдыло\n",
      "фылвофдылов\n",
      "ылв\n",
      "ылво\n",
      "ылвоф\n",
      "ылвофд\n",
      "ылвофды\n",
      "ылвофдыл\n",
      "ылвофдыло\n",
      "ылвофдылов\n",
      "лво\n",
      "лвоф\n",
      "лвофд\n",
      "лвофды\n",
      "лвофдыл\n",
      "лвофдыло\n",
      "лвофдылов\n",
      "воф\n",
      "вофд\n",
      "вофды\n",
      "вофдыл\n",
      "вофдыло\n",
      "вофдылов\n",
      "офд\n",
      "офды\n",
      "офдыл\n",
      "офдыло\n",
      "офдылов\n",
      "фды\n",
      "фдыл\n",
      "фдыло\n",
      "фдылов\n",
      "дыл\n",
      "дыло\n",
      "дылов\n",
      "ыло\n",
      "ылов\n",
      "лов\n"
     ]
    }
   ],
   "source": [
    "# Генерируем и выводим подстроки длиной не менее трех символов\n",
    "substrings = generate_substrings(user_input)\n",
    "for substring in substrings:\n",
    "    if len(substring) >= 3:\n",
    "        print(substring)"
   ]
  },
  {
   "cell_type": "code",
   "execution_count": null,
   "id": "5a8de85a",
   "metadata": {},
   "outputs": [],
   "source": []
  }
 ],
 "metadata": {
  "kernelspec": {
   "display_name": "Python 3 (ipykernel)",
   "language": "python",
   "name": "python3"
  },
  "language_info": {
   "codemirror_mode": {
    "name": "ipython",
    "version": 3
   },
   "file_extension": ".py",
   "mimetype": "text/x-python",
   "name": "python",
   "nbconvert_exporter": "python",
   "pygments_lexer": "ipython3",
   "version": "3.9.13"
  }
 },
 "nbformat": 4,
 "nbformat_minor": 5
}
