{
 "cells": [
  {
   "cell_type": "code",
   "execution_count": 1,
   "id": "1c8744e9",
   "metadata": {},
   "outputs": [],
   "source": [
    "#Написать программу, которая считывает данные из CSV-файла и создает словарь, где ключами являются значения в столбце «Name», а значениями — соответствующие им словари с информацией о поле, возрасте и зарплате."
   ]
  },
  {
   "cell_type": "code",
   "execution_count": 2,
   "id": "eff2d8b5",
   "metadata": {},
   "outputs": [],
   "source": [
    "import csv"
   ]
  },
  {
   "cell_type": "code",
   "execution_count": 20,
   "id": "3ede413f",
   "metadata": {},
   "outputs": [],
   "source": [
    "def create_dict_from_csv(csv_file):\n",
    "    data_dict = {}\n",
    "    \n",
    "    with open(csv_file, mode='r', newline='') as file:\n",
    "        reader = csv.DictReader(file)\n",
    "        \n",
    "        for row in reader:\n",
    "            name = row['Name']\n",
    "            gender = row['Gender']\n",
    "            age = int(row['Age'])\n",
    "            salary = int(row['Salary'])\n",
    "            \n",
    "            data_dict[name] = {\n",
    "                'Gender': gender,\n",
    "                'Age': age,\n",
    "                'Salary': salary\n",
    "            }\n",
    "    \n",
    "    return data_dict"
   ]
  },
  {
   "cell_type": "code",
   "execution_count": 21,
   "id": "9d5855bd",
   "metadata": {},
   "outputs": [],
   "source": [
    "# Укажите путь к вашему CSV-файлу\n",
    "csv_file_path = 'C:/Users/Denis/Documents/1T/data.csv'"
   ]
  },
  {
   "cell_type": "code",
   "execution_count": 22,
   "id": "dec53d43",
   "metadata": {},
   "outputs": [],
   "source": [
    "# Создаем словарь из CSV-файла\n",
    "data_dict = create_dict_from_csv(csv_file_path)"
   ]
  },
  {
   "cell_type": "code",
   "execution_count": 23,
   "id": "e7c48f81",
   "metadata": {},
   "outputs": [
    {
     "name": "stdout",
     "output_type": "stream",
     "text": [
      "Alice : {'Gender': 'Female', 'Age': 28, 'Salary': 50000}\n",
      "Bob : {'Gender': 'Male', 'Age': 32, 'Salary': 60000}\n",
      "Charlie : {'Gender': 'Male', 'Age': 25, 'Salary': 45000}\n",
      "David : {'Gender': 'Male', 'Age': 34, 'Salary': 75000}\n",
      "Eve : {'Gender': 'Female', 'Age': 29, 'Salary': 52000}\n"
     ]
    }
   ],
   "source": [
    "# Выводим результат\n",
    "for name, info in data_dict.items():\n",
    "    print(name, \":\", info)"
   ]
  },
  {
   "cell_type": "code",
   "execution_count": null,
   "id": "8d06adbd",
   "metadata": {},
   "outputs": [],
   "source": []
  },
  {
   "cell_type": "code",
   "execution_count": null,
   "id": "e50fb376",
   "metadata": {},
   "outputs": [],
   "source": []
  }
 ],
 "metadata": {
  "kernelspec": {
   "display_name": "Python 3 (ipykernel)",
   "language": "python",
   "name": "python3"
  },
  "language_info": {
   "codemirror_mode": {
    "name": "ipython",
    "version": 3
   },
   "file_extension": ".py",
   "mimetype": "text/x-python",
   "name": "python",
   "nbconvert_exporter": "python",
   "pygments_lexer": "ipython3",
   "version": "3.9.13"
  }
 },
 "nbformat": 4,
 "nbformat_minor": 5
}
