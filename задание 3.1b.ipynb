{
 "cells": [
  {
   "cell_type": "code",
   "execution_count": 14,
   "id": "3e7f02aa",
   "metadata": {},
   "outputs": [],
   "source": [
    "#Написать программу, которая считывает список слов и находит слова, содержащие более трех гласных букв."
   ]
  },
  {
   "cell_type": "code",
   "execution_count": 20,
   "id": "933ae6e3",
   "metadata": {},
   "outputs": [],
   "source": [
    "import re"
   ]
  },
  {
   "cell_type": "code",
   "execution_count": 21,
   "id": "385e46ee",
   "metadata": {},
   "outputs": [],
   "source": [
    "def count_russian_vowels(word):\n",
    "    # Регулярное выражение для определения русских гласных\n",
    "    russian_vowels = re.compile(r'[аеёиоуыэюяАЕЁИОУЫЭЮЯ]')\n",
    "    return len(russian_vowels.findall(word))"
   ]
  },
  {
   "cell_type": "code",
   "execution_count": 22,
   "id": "63f3d4ee",
   "metadata": {},
   "outputs": [],
   "source": [
    "def find_words_with_more_than_three_russian_vowels(word_list):\n",
    "    result = [word for word in word_list if count_russian_vowels(word) > 3]\n",
    "    return result"
   ]
  },
  {
   "cell_type": "code",
   "execution_count": 23,
   "id": "3d98550e",
   "metadata": {},
   "outputs": [
    {
     "name": "stdout",
     "output_type": "stream",
     "text": [
      "Введите список слов, разделенных пробелами: мама каратамандах спорридж ffddfffdf\n"
     ]
    }
   ],
   "source": [
    "# Считываем список слов\n",
    "word_list = input(\"Введите список слов, разделенных пробелами: \").split()"
   ]
  },
  {
   "cell_type": "code",
   "execution_count": 24,
   "id": "59fb3655",
   "metadata": {},
   "outputs": [],
   "source": [
    "# Находим слова с более чем тремя русскими гласными буквами\n",
    "selected_words = find_words_with_more_than_three_russian_vowels(word_list)"
   ]
  },
  {
   "cell_type": "code",
   "execution_count": 25,
   "id": "f0e00cd0",
   "metadata": {},
   "outputs": [
    {
     "name": "stdout",
     "output_type": "stream",
     "text": [
      "Слова с более чем тремя русскими гласными буквами: ['каратамандах']\n"
     ]
    }
   ],
   "source": [
    "# Выводим результат\n",
    "print(\"Слова с более чем тремя русскими гласными буквами:\", selected_words)"
   ]
  },
  {
   "cell_type": "code",
   "execution_count": null,
   "id": "58fa7a14",
   "metadata": {},
   "outputs": [],
   "source": []
  },
  {
   "cell_type": "code",
   "execution_count": null,
   "id": "ebbeb8c9",
   "metadata": {},
   "outputs": [],
   "source": []
  }
 ],
 "metadata": {
  "kernelspec": {
   "display_name": "Python 3 (ipykernel)",
   "language": "python",
   "name": "python3"
  },
  "language_info": {
   "codemirror_mode": {
    "name": "ipython",
    "version": 3
   },
   "file_extension": ".py",
   "mimetype": "text/x-python",
   "name": "python",
   "nbconvert_exporter": "python",
   "pygments_lexer": "ipython3",
   "version": "3.9.13"
  }
 },
 "nbformat": 4,
 "nbformat_minor": 5
}
