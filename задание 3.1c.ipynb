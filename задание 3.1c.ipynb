{
 "cells": [
  {
   "cell_type": "code",
   "execution_count": 1,
   "id": "30a0335d",
   "metadata": {},
   "outputs": [],
   "source": [
    "#Написать программу, которая находит второй по величине элемент в списке."
   ]
  },
  {
   "cell_type": "code",
   "execution_count": 12,
   "id": "f9ad1376",
   "metadata": {},
   "outputs": [],
   "source": [
    "def find_second_largest(input_list):\n",
    "    if len(input_list) < 2:\n",
    "        return \"Список слишком короткий, чтобы найти второй по величине элемент.\"\n",
    "\n",
    "    first_max = second_max = float('-inf')\n",
    "\n",
    "    for num in input_list:\n",
    "        if num > first_max:\n",
    "            second_max = first_max\n",
    "            first_max = num\n",
    "        elif first_max > num > second_max:\n",
    "            second_max = num\n",
    "\n",
    "    return second_max"
   ]
  },
  {
   "cell_type": "code",
   "execution_count": 11,
   "id": "1e609fda",
   "metadata": {},
   "outputs": [
    {
     "name": "stdout",
     "output_type": "stream",
     "text": [
      "Второй по величине элемент в списке: 41\n"
     ]
    }
   ],
   "source": [
    "# Пример использования:\n",
    "my_list = [12, 45, 2, 41, 31, 10, 8]\n",
    "second_largest = find_second_largest(my_list)\n",
    "print(\"Второй по величине элемент в списке:\", second_largest)"
   ]
  },
  {
   "cell_type": "code",
   "execution_count": null,
   "id": "1dcb474b",
   "metadata": {},
   "outputs": [],
   "source": []
  }
 ],
 "metadata": {
  "kernelspec": {
   "display_name": "Python 3 (ipykernel)",
   "language": "python",
   "name": "python3"
  },
  "language_info": {
   "codemirror_mode": {
    "name": "ipython",
    "version": 3
   },
   "file_extension": ".py",
   "mimetype": "text/x-python",
   "name": "python",
   "nbconvert_exporter": "python",
   "pygments_lexer": "ipython3",
   "version": "3.9.13"
  }
 },
 "nbformat": 4,
 "nbformat_minor": 5
}
